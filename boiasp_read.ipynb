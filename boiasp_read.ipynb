{
 "cells": [
  {
   "cell_type": "markdown",
   "id": "1c8ad6c0",
   "metadata": {},
   "source": [
    "\n",
    "Explorando dados das Boias SimCosta\n",
    "\n",
    "\n"
   ]
  },
  {
   "cell_type": "code",
   "execution_count": 2,
   "id": "9d9351a5",
   "metadata": {},
   "outputs": [],
   "source": [
    "import pandas as pd"
   ]
  },
  {
   "cell_type": "code",
   "execution_count": 3,
   "id": "938e632a",
   "metadata": {},
   "outputs": [],
   "source": [
    "url = ('https://simcosta.furg.br/api/intrans_data?boiaID=220&type=json&time1=1411257600&time2=1585440000&params=Fluo,Sal,Tmp,Turb')\n",
    "\n",
    "boia_sp = pd.read_json(url)"
   ]
  },
  {
   "cell_type": "code",
   "execution_count": 4,
   "id": "0db69083",
   "metadata": {},
   "outputs": [
    {
     "name": "stdout",
     "output_type": "stream",
     "text": [
      "                      timestamp  YEAR  MONTH  DAY  HOUR  MINUTE  SECOND  \\\n",
      "0     2014-09-22 00:01:30+00:00  2014      9   22     0       1      30   \n",
      "1     2014-09-22 01:01:30+00:00  2014      9   22     1       1      30   \n",
      "2     2014-09-22 02:01:30+00:00  2014      9   22     2       1      30   \n",
      "3     2014-09-22 03:01:30+00:00  2014      9   22     3       1      30   \n",
      "4     2014-09-22 04:01:30+00:00  2014      9   22     4       1      30   \n",
      "...                         ...   ...    ...  ...   ...     ...     ...   \n",
      "30760 2020-03-28 18:01:30+00:00  2020      3   28    18       1      30   \n",
      "30761 2020-03-28 19:01:30+00:00  2020      3   28    19       1      30   \n",
      "30762 2020-03-28 21:01:30+00:00  2020      3   28    21       1      30   \n",
      "30763 2020-03-28 22:01:30+00:00  2020      3   28    22       1      30   \n",
      "30764 2020-03-28 23:01:30+00:00  2020      3   28    23       1      30   \n",
      "\n",
      "         Tmp      Sal     Turb     Fluo  \n",
      "0      22.68  0.01100  1.65753  0.24068  \n",
      "1      22.63  0.01100  1.63679  0.22800  \n",
      "2      22.58  0.01100  1.64537  0.22795  \n",
      "3      22.52  0.01100  1.66258  0.23626  \n",
      "4      22.47  0.01100  1.65332  0.23626  \n",
      "...      ...      ...      ...      ...  \n",
      "30760  24.70  0.01200  0.67890  0.79970  \n",
      "30761  25.11  0.01200  0.95240  1.01310  \n",
      "30762  24.97  0.01200  1.33590  1.14915  \n",
      "30763  26.36  0.01300  2.15695  1.02670  \n",
      "30764  26.28  0.01275  1.95585  0.87715  \n",
      "\n",
      "[30765 rows x 11 columns]\n"
     ]
    }
   ],
   "source": [
    "print(boia_sp)"
   ]
  },
  {
   "cell_type": "code",
   "execution_count": 17,
   "id": "9e29b935",
   "metadata": {},
   "outputs": [
    {
     "name": "stdout",
     "output_type": "stream",
     "text": [
      "0       2014-09-22 00:01:30+00:00\n",
      "1       2014-09-22 01:01:30+00:00\n",
      "2       2014-09-22 02:01:30+00:00\n",
      "3       2014-09-22 03:01:30+00:00\n",
      "4       2014-09-22 04:01:30+00:00\n",
      "                   ...           \n",
      "30760   2020-03-28 18:01:30+00:00\n",
      "30761   2020-03-28 19:01:30+00:00\n",
      "30762   2020-03-28 21:01:30+00:00\n",
      "30763   2020-03-28 22:01:30+00:00\n",
      "30764   2020-03-28 23:01:30+00:00\n",
      "Name: timestamp, Length: 30765, dtype: datetime64[ns, UTC]\n"
     ]
    }
   ],
   "source": [
    "print(boia_sp['timestamp'])"
   ]
  },
  {
   "cell_type": "markdown",
   "id": "6b529231",
   "metadata": {},
   "source": [
    "describe"
   ]
  },
  {
   "cell_type": "code",
   "execution_count": 22,
   "id": "fd4abcd2",
   "metadata": {},
   "outputs": [],
   "source": [
    "boia_desc=boia_sp.describe()"
   ]
  },
  {
   "cell_type": "code",
   "execution_count": 23,
   "id": "a0f36cf5",
   "metadata": {},
   "outputs": [
    {
     "data": {
      "text/plain": [
       "YEAR          3.056555\n",
       "MONTH        11.808068\n",
       "DAY          79.248163\n",
       "HOUR         47.761645\n",
       "MINUTE        0.000000\n",
       "SECOND        0.000000\n",
       "Tmp           7.490695\n",
       "Sal       52321.453243\n",
       "Turb        102.235779\n",
       "Fluo          4.900559\n",
       "Name: std, dtype: float64"
      ]
     },
     "execution_count": 23,
     "metadata": {},
     "output_type": "execute_result"
    }
   ],
   "source": [
    "(boia_desc.loc[\"std\"] ** 2)"
   ]
  },
  {
   "cell_type": "code",
   "execution_count": null,
   "id": "210b0790",
   "metadata": {},
   "outputs": [],
   "source": []
  }
 ],
 "metadata": {
  "kernelspec": {
   "display_name": "Python 3 (ipykernel)",
   "language": "python",
   "name": "python3"
  },
  "language_info": {
   "codemirror_mode": {
    "name": "ipython",
    "version": 3
   },
   "file_extension": ".py",
   "mimetype": "text/x-python",
   "name": "python",
   "nbconvert_exporter": "python",
   "pygments_lexer": "ipython3",
   "version": "3.9.6"
  }
 },
 "nbformat": 4,
 "nbformat_minor": 5
}
